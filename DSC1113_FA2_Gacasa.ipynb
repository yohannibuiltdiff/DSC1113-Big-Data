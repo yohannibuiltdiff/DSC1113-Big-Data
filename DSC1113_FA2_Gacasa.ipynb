{
  "nbformat": 4,
  "nbformat_minor": 0,
  "metadata": {
    "colab": {
      "provenance": []
    },
    "kernelspec": {
      "name": "python3",
      "display_name": "Python 3"
    },
    "language_info": {
      "name": "python"
    }
  },
  "cells": [
    {
      "cell_type": "code",
      "execution_count": 1,
      "metadata": {
        "colab": {
          "base_uri": "https://localhost:8080/"
        },
        "id": "pTa18N5XV9L1",
        "outputId": "307ba07a-7591-4cec-eae8-843f0a744cd1"
      },
      "outputs": [
        {
          "output_type": "stream",
          "name": "stdout",
          "text": [
            "Requirement already satisfied: pandas in /usr/local/lib/python3.11/dist-packages (2.2.2)\n",
            "Requirement already satisfied: numpy>=1.23.2 in /usr/local/lib/python3.11/dist-packages (from pandas) (2.0.2)\n",
            "Requirement already satisfied: python-dateutil>=2.8.2 in /usr/local/lib/python3.11/dist-packages (from pandas) (2.9.0.post0)\n",
            "Requirement already satisfied: pytz>=2020.1 in /usr/local/lib/python3.11/dist-packages (from pandas) (2025.2)\n",
            "Requirement already satisfied: tzdata>=2022.7 in /usr/local/lib/python3.11/dist-packages (from pandas) (2025.2)\n",
            "Requirement already satisfied: six>=1.5 in /usr/local/lib/python3.11/dist-packages (from python-dateutil>=2.8.2->pandas) (1.17.0)\n"
          ]
        }
      ],
      "source": [
        "!pip install pandas\n",
        "\n",
        "import pandas as pd\n",
        "from datetime import datetime\n",
        "from functools import reduce"
      ]
    },
    {
      "cell_type": "code",
      "source": [
        "url = \"https://raw.githubusercontent.com/owid/covid-19-data/master/public/data/vaccinations/vaccinations.csv\"\n",
        "df = pd.read_csv(url)\n",
        "\n",
        "# Save to Excel\n",
        "excel_file = \"covid_vaccinations.xlsx\"\n",
        "df.to_excel(excel_file, index=False)\n",
        "\n",
        "# Download the file to your local machine\n",
        "from google.colab import files\n",
        "files.download(excel_file)"
      ],
      "metadata": {
        "colab": {
          "base_uri": "https://localhost:8080/",
          "height": 17
        },
        "id": "LG8tAdpAWG8B",
        "outputId": "d1e602d3-0e2f-4973-ed00-aaa5fe21f3be"
      },
      "execution_count": 7,
      "outputs": [
        {
          "output_type": "display_data",
          "data": {
            "text/plain": [
              "<IPython.core.display.Javascript object>"
            ],
            "application/javascript": [
              "\n",
              "    async function download(id, filename, size) {\n",
              "      if (!google.colab.kernel.accessAllowed) {\n",
              "        return;\n",
              "      }\n",
              "      const div = document.createElement('div');\n",
              "      const label = document.createElement('label');\n",
              "      label.textContent = `Downloading \"${filename}\": `;\n",
              "      div.appendChild(label);\n",
              "      const progress = document.createElement('progress');\n",
              "      progress.max = size;\n",
              "      div.appendChild(progress);\n",
              "      document.body.appendChild(div);\n",
              "\n",
              "      const buffers = [];\n",
              "      let downloaded = 0;\n",
              "\n",
              "      const channel = await google.colab.kernel.comms.open(id);\n",
              "      // Send a message to notify the kernel that we're ready.\n",
              "      channel.send({})\n",
              "\n",
              "      for await (const message of channel.messages) {\n",
              "        // Send a message to notify the kernel that we're ready.\n",
              "        channel.send({})\n",
              "        if (message.buffers) {\n",
              "          for (const buffer of message.buffers) {\n",
              "            buffers.push(buffer);\n",
              "            downloaded += buffer.byteLength;\n",
              "            progress.value = downloaded;\n",
              "          }\n",
              "        }\n",
              "      }\n",
              "      const blob = new Blob(buffers, {type: 'application/binary'});\n",
              "      const a = document.createElement('a');\n",
              "      a.href = window.URL.createObjectURL(blob);\n",
              "      a.download = filename;\n",
              "      div.appendChild(a);\n",
              "      a.click();\n",
              "      div.remove();\n",
              "    }\n",
              "  "
            ]
          },
          "metadata": {}
        },
        {
          "output_type": "display_data",
          "data": {
            "text/plain": [
              "<IPython.core.display.Javascript object>"
            ],
            "application/javascript": [
              "download(\"download_63812836-c4d2-4d55-927b-c9d6aec9c121\", \"covid_vaccinations.xlsx\", 13942505)"
            ]
          },
          "metadata": {}
        }
      ]
    },
    {
      "cell_type": "code",
      "source": [
        "import pandas as pd\n",
        "from functools import reduce\n",
        "\n",
        "# Load only the relevant columns from the dataset\n",
        "data = df[['location', 'date', 'people_fully_vaccinated_per_hundred', 'total_vaccinations']]\n",
        "\n",
        "# Drop rows with missing data in key columns\n",
        "data = data.dropna(subset=['people_fully_vaccinated_per_hundred', 'total_vaccinations'])\n",
        "\n",
        "# Ensure the 'total_vaccinations' column is numeric for accurate calculations\n",
        "data['total_vaccinations'] = pd.to_numeric(data['total_vaccinations'])\n",
        "\n",
        "# Sort by date and get the most recent vaccination record for each country\n",
        "latest_data = data.sort_values('date').groupby('location', as_index=False).last()\n",
        "\n",
        "# Functional Operation 1: FILTER\n",
        "# Use filter to keep only the records where more than 70% of the population is fully vaccinated\n",
        "filtered_data = list(filter(\n",
        "    lambda row: row['people_fully_vaccinated_per_hundred'] > 70,\n",
        "    latest_data.to_dict(orient='records')\n",
        "))\n",
        "\n",
        "# Functional Operation 2: REDUCE\n",
        "# Use reduce to sum the total_vaccinations across the filtered countries\n",
        "total_vaccinations = reduce(\n",
        "    lambda acc, row: acc + row['total_vaccinations'],\n",
        "    filtered_data,\n",
        "    0\n",
        ")\n",
        "\n",
        "# Display the final total vaccination count\n",
        "print(\"Total vaccinations in countries with >70% fully vaccinated population:\", int(total_vaccinations))\n",
        "\n",
        "# Functional Operation 3: MAP\n",
        "# Use map to extract the list of country names that met the filter condition\n",
        "vaccinated_countries = list(map(\n",
        "    lambda row: row['location'],\n",
        "    filtered_data\n",
        "))\n",
        "\n",
        "# Display the list of countries with >70% of the population fully vaccinated\n",
        "print(\"Countries with >70% fully vaccinated population:\", vaccinated_countries)\n",
        "\n"
      ],
      "metadata": {
        "colab": {
          "base_uri": "https://localhost:8080/"
        },
        "id": "3DadtSOKWJAL",
        "outputId": "cb0c6920-f795-405f-8d03-ac4b69b40375"
      },
      "execution_count": 11,
      "outputs": [
        {
          "output_type": "stream",
          "name": "stdout",
          "text": [
            "Total vaccinations in countries with >70% fully vaccinated population: 26739296167\n",
            "Countries with >70% fully vaccinated population: ['Argentina', 'Aruba', 'Asia', 'Australia', 'Austria', 'Bahrain', 'Bangladesh', 'Belgium', 'Bermuda', 'Bhutan', 'Brazil', 'Brunei', 'Cambodia', 'Canada', 'Cayman Islands', 'Chile', 'China', 'Colombia', 'Cook Islands', 'Costa Rica', 'Cuba', 'Cyprus', 'Denmark', 'Ecuador', 'England', 'European Union', 'Faeroe Islands', 'Finland', 'France', 'Germany', 'Gibraltar', 'Greece', 'Guernsey', 'High income', 'Hong Kong', 'Iceland', 'Ireland', 'Isle of Man', 'Italy', 'Japan', 'Jersey', 'Kuwait', 'Latvia', 'Liberia', 'Macao', 'Malaysia', 'Maldives', 'Malta', 'Mauritius', 'Monaco', 'Nauru', 'Nepal', 'New Zealand', 'Nicaragua', 'Niue', 'Northern Cyprus', 'Northern Ireland', 'Norway', 'Panama', 'Peru', 'Pitcairn', 'Portugal', 'Qatar', 'Rwanda', 'Samoa', 'San Marino', 'Scotland', 'Seychelles', 'Singapore', 'South America', 'South Korea', 'Spain', 'Sweden', 'Taiwan', 'Thailand', 'Tokelau', 'Tonga', 'Turkmenistan', 'Tuvalu', 'United Arab Emirates', 'United Kingdom', 'Upper middle income', 'Uruguay', 'Vietnam', 'Wales']\n"
          ]
        }
      ]
    },
    {
      "cell_type": "markdown",
      "source": [
        "In this vaccination analysis, I used functional programming instead, and I actually found it cleaner and more efficient.\n",
        "\n",
        "In my code, I used map to convert each country's name into a list. I used a filter to select only the countries where more than 70% of the population was fully vaccinated. Finally, I used reduce to calculate the total number of vaccinations across all of those countries. These functions let me process the data in a more readable and declarative way, without needing to write long loops or worry about manually updating counters.\n",
        "\n",
        "Functional programming works well in data science because we often deal with big datasets that need transforming, filtering, and summarizing. Tools like map, filter, and reduce make these operations easier to write and understand. Plus, they avoid changing variables, so it’s less likely to cause bugs.\n",
        "\n",
        "Even though I’m more comfortable with imperative code, I see how functional programming can help write cleaner, shorter, and safer code—especially for tasks like this, where I just want to transform data from one form to another. What I like about functional programming is that it makes data transformations more readable and faster to write. You just tell the computer what you want done instead of how to do it step by step. It’s especially useful when working with big datasets or building data pipelines. Also, since functions like map and filter don’t change the original data, it’s less likely to introduce bugs."
      ],
      "metadata": {
        "id": "gTxCRpwGYRUE"
      }
    }
  ]
}