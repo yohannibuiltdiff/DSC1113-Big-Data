{
  "nbformat": 4,
  "nbformat_minor": 0,
  "metadata": {
    "colab": {
      "provenance": []
    },
    "kernelspec": {
      "name": "python3",
      "display_name": "Python 3"
    },
    "language_info": {
      "name": "python"
    }
  },
  "cells": [
    {
      "cell_type": "code",
      "source": [
        "!apt-get install openjdk-11-jdk-headless -qq > /dev/null\n",
        "!wget -q https://archive.apache.org/dist/spark/spark-3.5.0/spark-3.5.0-bin-hadoop3.tgz\n",
        "!tar -xzf spark-3.5.0-bin-hadoop3.tgz\n",
        "\n",
        "!pip install -q findspark\n",
        "\n",
        "\n",
        "import os\n",
        "import findspark\n",
        "\n",
        "os.environ[\"JAVA_HOME\"] = \"/usr/lib/jvm/java-11-openjdk-amd64\"\n",
        "os.environ[\"SPARK_HOME\"] = \"/content/spark-3.5.0-bin-hadoop3\"\n",
        "findspark.init()\n"
      ],
      "metadata": {
        "id": "baTMuQomhlqo"
      },
      "execution_count": 4,
      "outputs": []
    },
    {
      "cell_type": "code",
      "source": [
        "from pyspark.sql import SparkSession\n",
        "from pyspark.sql.functions import col\n",
        "from pyspark.sql.functions import avg\n",
        "from pyspark.sql.functions import count\n",
        "from pyspark.sql.functions import to_timestamp, to_date, unix_timestamp, sum as _sum\n",
        "\n",
        "spark = SparkSession.builder \\\n",
        "    .appName(\"NYC Yellow Taxi Analysis\") \\\n",
        "    .getOrCreate()\n"
      ],
      "metadata": {
        "id": "AdHFqvP0nIpn"
      },
      "execution_count": 24,
      "outputs": []
    },
    {
      "cell_type": "code",
      "source": [
        "df = spark.read.parquet(\"/content/yellow_tripdata_2025-02.parquet\")\n",
        "df.printSchema()\n",
        "df.show(10)"
      ],
      "metadata": {
        "colab": {
          "base_uri": "https://localhost:8080/"
        },
        "id": "Rv2PE6DnnMof",
        "outputId": "e008837f-b05b-49a9-9494-2ff0ad7ee23e"
      },
      "execution_count": 25,
      "outputs": [
        {
          "output_type": "stream",
          "name": "stdout",
          "text": [
            "root\n",
            " |-- VendorID: integer (nullable = true)\n",
            " |-- tpep_pickup_datetime: timestamp_ntz (nullable = true)\n",
            " |-- tpep_dropoff_datetime: timestamp_ntz (nullable = true)\n",
            " |-- passenger_count: long (nullable = true)\n",
            " |-- trip_distance: double (nullable = true)\n",
            " |-- RatecodeID: long (nullable = true)\n",
            " |-- store_and_fwd_flag: string (nullable = true)\n",
            " |-- PULocationID: integer (nullable = true)\n",
            " |-- DOLocationID: integer (nullable = true)\n",
            " |-- payment_type: long (nullable = true)\n",
            " |-- fare_amount: double (nullable = true)\n",
            " |-- extra: double (nullable = true)\n",
            " |-- mta_tax: double (nullable = true)\n",
            " |-- tip_amount: double (nullable = true)\n",
            " |-- tolls_amount: double (nullable = true)\n",
            " |-- improvement_surcharge: double (nullable = true)\n",
            " |-- total_amount: double (nullable = true)\n",
            " |-- congestion_surcharge: double (nullable = true)\n",
            " |-- Airport_fee: double (nullable = true)\n",
            " |-- cbd_congestion_fee: double (nullable = true)\n",
            "\n",
            "+--------+--------------------+---------------------+---------------+-------------+----------+------------------+------------+------------+------------+-----------+-----+-------+----------+------------+---------------------+------------+--------------------+-----------+------------------+\n",
            "|VendorID|tpep_pickup_datetime|tpep_dropoff_datetime|passenger_count|trip_distance|RatecodeID|store_and_fwd_flag|PULocationID|DOLocationID|payment_type|fare_amount|extra|mta_tax|tip_amount|tolls_amount|improvement_surcharge|total_amount|congestion_surcharge|Airport_fee|cbd_congestion_fee|\n",
            "+--------+--------------------+---------------------+---------------+-------------+----------+------------------+------------+------------+------------+-----------+-----+-------+----------+------------+---------------------+------------+--------------------+-----------+------------------+\n",
            "|       2| 2025-02-01 00:12:18|  2025-02-01 00:32:33|              3|         3.12|         1|                 N|         246|          79|           1|       19.8|  1.0|    0.5|      5.11|         0.0|                  1.0|       30.66|                 2.5|        0.0|              0.75|\n",
            "|       2| 2025-02-01 00:40:04|  2025-02-01 00:49:15|              1|          1.4|         1|                 N|         114|          79|           1|       10.0|  1.0|    0.5|      3.15|         0.0|                  1.0|        18.9|                 2.5|        0.0|              0.75|\n",
            "|       1| 2025-02-01 00:06:09|  2025-02-01 00:11:51|              0|          0.4|         1|                 N|         211|         144|           1|        6.5| 4.25|    0.5|       1.0|         0.0|                  1.0|       13.25|                 2.5|        0.0|              0.75|\n",
            "|       1| 2025-02-01 00:15:13|  2025-02-01 00:20:19|              0|          0.7|         1|                 N|         113|         249|           1|        7.2| 4.25|    0.5|       2.0|         0.0|                  1.0|       14.95|                 2.5|        0.0|              0.75|\n",
            "|       2| 2025-02-01 00:02:52|  2025-02-01 00:20:25|              1|         4.19|         1|                 N|         113|         263|           1|       19.8|  1.0|    0.5|      5.11|         0.0|                  1.0|       30.66|                 2.5|        0.0|              0.75|\n",
            "|       2| 2025-02-01 00:33:47|  2025-02-01 00:41:49|              1|         1.57|         1|                 N|         162|         236|           1|       10.0|  1.0|    0.5|      3.15|         0.0|                  1.0|        18.9|                 2.5|        0.0|              0.75|\n",
            "|       2| 2025-02-01 00:37:12|  2025-02-01 00:39:49|              1|          0.3|         1|                 N|         164|         186|           1|        4.4|  1.0|    0.5|       3.0|         0.0|                  1.0|       13.15|                 2.5|        0.0|              0.75|\n",
            "|       2| 2025-02-01 00:12:12|  2025-02-01 00:23:30|              1|         1.41|         1|                 N|          45|         249|           1|       11.4|  1.0|    0.5|      3.43|         0.0|                  1.0|       20.58|                 2.5|        0.0|              0.75|\n",
            "|       2| 2025-02-01 00:29:30|  2025-02-01 00:44:51|              1|         2.72|         1|                 N|         114|         186|           1|       16.3|  1.0|    0.5|       2.0|         0.0|                  1.0|       24.05|                 2.5|        0.0|              0.75|\n",
            "|       1| 2025-02-01 00:15:18|  2025-02-01 00:26:00|              1|          2.2|         1|                 N|         158|          48|           2|       12.8| 4.25|    0.5|       0.0|         0.0|                  1.0|       18.55|                 2.5|        0.0|              0.75|\n",
            "+--------+--------------------+---------------------+---------------+-------------+----------+------------------+------------+------------+------------+-----------+-----+-------+----------+------------+---------------------+------------+--------------------+-----------+------------------+\n",
            "only showing top 10 rows\n",
            "\n"
          ]
        }
      ]
    },
    {
      "cell_type": "code",
      "source": [
        "df_clean = df.dropna(subset=[\"tpep_pickup_datetime\", \"tpep_dropoff_datetime\", \"fare_amount\"])\n",
        "\n",
        "df_clean = df_clean.filter((col(\"trip_distance\") > 0) & (col(\"fare_amount\") > 0))\n",
        "\n",
        "df_clean = df_clean.withColumnRenamed(\"tpep_pickup_datetime\", \"pickup_datetime\") \\\n",
        "                   .withColumnRenamed(\"tpep_dropoff_datetime\", \"dropoff_datetime\")\n"
      ],
      "metadata": {
        "id": "NrVsHbzPnyYR"
      },
      "execution_count": 26,
      "outputs": []
    },
    {
      "cell_type": "code",
      "source": [
        "avg_fare_by_passenger = df_clean.groupBy(\"passenger_count\") \\\n",
        "    .agg(avg(\"fare_amount\").alias(\"avg_fare_amount\")) \\\n",
        "    .orderBy(\"passenger_count\")\n",
        "\n",
        "avg_fare_by_passenger.show()\n"
      ],
      "metadata": {
        "colab": {
          "base_uri": "https://localhost:8080/"
        },
        "id": "HLSi05WqoEYe",
        "outputId": "0b69e33f-5d90-49d7-a4ff-255b679a711d"
      },
      "execution_count": 27,
      "outputs": [
        {
          "output_type": "stream",
          "name": "stdout",
          "text": [
            "+---------------+------------------+\n",
            "|passenger_count|   avg_fare_amount|\n",
            "+---------------+------------------+\n",
            "|           NULL| 19.01169359560233|\n",
            "|              0|15.587368796688333|\n",
            "|              1| 17.41567037526011|\n",
            "|              2|19.839337503387068|\n",
            "|              3|19.493705196295647|\n",
            "|              4|21.883914760002654|\n",
            "|              5|16.307732906112065|\n",
            "|              6|17.202291528002316|\n",
            "|              7|              72.5|\n",
            "|              8|              82.8|\n",
            "+---------------+------------------+\n",
            "\n"
          ]
        }
      ]
    },
    {
      "cell_type": "code",
      "source": [
        "top_pickups = df_clean.groupBy(\"PULocationID\") \\\n",
        "    .agg(count(\"*\").alias(\"trip_count\")) \\\n",
        "    .orderBy(col(\"trip_count\").desc()) \\\n",
        "    .limit(5)\n",
        "\n",
        "top_pickups.show()\n"
      ],
      "metadata": {
        "colab": {
          "base_uri": "https://localhost:8080/"
        },
        "id": "e5r1qcAtoWTz",
        "outputId": "72bd8079-6798-4330-d2b2-1b72638f4fdb"
      },
      "execution_count": 28,
      "outputs": [
        {
          "output_type": "stream",
          "name": "stdout",
          "text": [
            "+------------+----------+\n",
            "|PULocationID|trip_count|\n",
            "+------------+----------+\n",
            "|         161|    152706|\n",
            "|         237|    151036|\n",
            "|         236|    141102|\n",
            "|         132|    115313|\n",
            "|         162|    108204|\n",
            "+------------+----------+\n",
            "\n"
          ]
        }
      ]
    },
    {
      "cell_type": "code",
      "source": [
        "df_time = df_clean.withColumn(\"pickup_datetime\", to_timestamp(\"pickup_datetime\")) \\\n",
        "                  .withColumn(\"dropoff_datetime\", to_timestamp(\"dropoff_datetime\"))\n",
        "\n",
        "df_time = df_time.withColumn(\"trip_duration_min\",\n",
        "    (unix_timestamp(\"dropoff_datetime\") - unix_timestamp(\"pickup_datetime\")) / 60)\n",
        "\n",
        "daily_summary = df_time.withColumn(\"trip_date\", to_date(\"pickup_datetime\")) \\\n",
        "    .groupBy(\"trip_date\") \\\n",
        "    .agg(\n",
        "        _sum(\"trip_distance\").alias(\"total_trip_distance\"),\n",
        "        avg(\"trip_duration_min\").alias(\"avg_trip_duration_min\")\n",
        "    ) \\\n",
        "    .orderBy(\"trip_date\")\n",
        "\n",
        "daily_summary.show()\n"
      ],
      "metadata": {
        "colab": {
          "base_uri": "https://localhost:8080/"
        },
        "id": "6F5rHARJo20d",
        "outputId": "f0c3deca-19ab-46b9-e54f-10abf8ef9759"
      },
      "execution_count": 29,
      "outputs": [
        {
          "output_type": "stream",
          "name": "stdout",
          "text": [
            "+----------+-------------------+---------------------+\n",
            "| trip_date|total_trip_distance|avg_trip_duration_min|\n",
            "+----------+-------------------+---------------------+\n",
            "|2025-01-31| 113.92000000000002|   14.971111111111112|\n",
            "|2025-02-01|  499441.1599999991|     14.6213505767715|\n",
            "|2025-02-02|  889323.0300000012|   14.053696340444032|\n",
            "|2025-02-03| 441829.38000000326|   15.703906269686064|\n",
            "|2025-02-04|  592972.2300000058|   15.614737492132418|\n",
            "|2025-02-05| 354700.30999999767|   16.029875050922985|\n",
            "|2025-02-06|   649475.240000006|   15.828898243823442|\n",
            "|2025-02-07|   549300.379999995|   15.831258945304025|\n",
            "|2025-02-08|   925505.860000002|   15.059022976695546|\n",
            "|2025-02-09|  780118.5200000054|   13.943378179524972|\n",
            "|2025-02-10| 442250.15000000515|      16.336298904771|\n",
            "|2025-02-11|  547174.8600000065|   15.575351862362217|\n",
            "|2025-02-12|  959934.8600000043|   15.143362758628527|\n",
            "|2025-02-13|  603698.9100000062|   16.243934328830075|\n",
            "|2025-02-14|  908971.7900000163|    16.94685059564565|\n",
            "|2025-02-15|  657660.1699999965|   14.528504585710984|\n",
            "|2025-02-16|  696364.5600000026|   14.062316876473401|\n",
            "|2025-02-17|  665625.5799999994|    14.31576524221671|\n",
            "|2025-02-18|  456962.2299999967|    15.80140032747254|\n",
            "|2025-02-19|   746971.670000002|    15.63415033106644|\n",
            "+----------+-------------------+---------------------+\n",
            "only showing top 20 rows\n",
            "\n"
          ]
        }
      ]
    },
    {
      "cell_type": "code",
      "source": [],
      "metadata": {
        "id": "OyBJ-vFtqp1y"
      },
      "execution_count": null,
      "outputs": []
    }
  ]
}